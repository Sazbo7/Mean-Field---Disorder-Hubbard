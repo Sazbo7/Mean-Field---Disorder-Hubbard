{
 "cells": [
  {
   "cell_type": "code",
   "execution_count": 1,
   "metadata": {},
   "outputs": [],
   "source": [
    "import itertools\n",
    "\n",
    "import sys, os\n",
    "import numpy as np\n",
    "import matplotlib.pyplot as plt\n",
    "import matplotlib.cm as cmx\n",
    "import matplotlib.colors as colors\n",
    "from matplotlib.patches import Rectangle\n",
    "import matplotlib.patches as patches\n",
    "import seaborn as sns\n",
    "import astropy.io.fits as pyfits\n",
    "import re\n",
    "import ctypes\n",
    "import glob\n",
    "import pandas as pd\n",
    "import scipy.optimize as opt\n",
    "import subprocess as sbp\n",
    "import seaborn as sns\n",
    "import math\n",
    "from mpl_toolkits.axes_grid1 import make_axes_locatable\n",
    "import scipy as sp\n",
    "import scipy.ndimage\n",
    "\n",
    "\n",
    "\n",
    "%matplotlib inline"
   ]
  },
  {
   "cell_type": "code",
   "execution_count": 2,
   "metadata": {},
   "outputs": [],
   "source": [
    "def get_figsize(columnwidth, wf=0.5, hf=(5.**0.5-1.0)/2.0, ):\n",
    "    \"\"\"Parameters:\n",
    "      - wf [float]:  width fraction in columnwidth units\n",
    "      - hf [float]:  height fraction in columnwidth units.\n",
    "                     Set by default to golden ratio.\n",
    "      - columnwidth [float]: width of the column in latex. Get this from LaTeX \n",
    "                             using \\showthe\\columnwidth\n",
    "    Returns:  [fig_width,fig_height]: that should be given to matplotlib\n",
    "    \"\"\"\n",
    "    fig_width_pt = columnwidth*wf \n",
    "    inches_per_pt = 1.0/72.27               # Convert pt to inch\n",
    "    fig_width = fig_width_pt*inches_per_pt  # width in inches\n",
    "    fig_height = fig_width*hf      # height in inches\n",
    "    return [fig_width, fig_height]"
   ]
  },
  {
   "cell_type": "code",
   "execution_count": 3,
   "metadata": {},
   "outputs": [],
   "source": [
    "def make_SpAdj(file_Name, omega_limit, direct = False, return_disorder = False):\n",
    "    hdulist = pyfits.open(file_Name);\n",
    "    \n",
    "    B1 = hdulist[0].header['HIERARCH LATTICE NSITES B1'];\n",
    "    B2 = hdulist[0].header['HIERARCH LATTICE NSITES B2'];\n",
    "    num_sites = B1*B2;\n",
    "    \n",
    "    disorder_fraction = hdulist[0].header['HIERARCH HUBBARD MODEL V FRACTION'];\n",
    "    \n",
    "    adj_mat = np.zeros([num_sites, num_sites]);\n",
    "    \n",
    "    omega = hdulist['ParamagneticSusceptibility_1'].header['HIERARCH PIPELINE CGS OMEGA'];\n",
    "    \n",
    "    if omega > omega_limit:\n",
    "        raise Exception('Omega is below threshold for DC-Conductivity Extrapolation')\n",
    "    \n",
    "    bonds = np.array( hdulist['HoppingBonds'].data );\n",
    "    para_susc = np.array(hdulist['ParamagneticSusceptibility_1'].data);\n",
    "    para_xx = 1000 * np.abs(bonds['DisplacementX']) * ((para_susc['ParamagneticSusceptibilityXUp']) + (para_susc['ParamagneticSusceptibilityXDn']))\n",
    "    para_yy = 1000 * np.abs(bonds['DisplacementY']) * ((para_susc['ParamagneticSusceptibilityYUp']) + (para_susc['ParamagneticSusceptibilityYDn']))\n",
    "    \n",
    "    xbonds = bonds[np.where(np.abs(bonds['DisplacementX']) > 0.0)];\n",
    "    ybonds = bonds[np.where(np.abs(bonds['DisplacementY']) > 0.0)];\n",
    "    \n",
    "    para_xx_redux = para_xx[np.where(np.abs(bonds['DisplacementX']) > 0.0)];\n",
    "    para_yy_redux = para_yy[np.where(np.abs(bonds['DisplacementY']) > 0.0)];\n",
    "    \n",
    "    for bx, by, chix, chiy in zip(xbonds, ybonds, para_xx_redux, para_yy_redux):\n",
    "        i_site_x = bx[0]-1;\n",
    "        j_site_x = bx[1]-1;\n",
    "        \n",
    "        i_site_y = by[0]-1;\n",
    "        j_site_y = by[1]-1;\n",
    "\n",
    "        imag_chix = np.imag(chix);\n",
    "        weight_x = 1.0 / imag_chix;\n",
    "        imag_chiy = np.imag(chiy);\n",
    "        weight_y = 1.0 / imag_chiy;\n",
    "        \n",
    "        if imag_chix < 0:\n",
    "            i_site_x, j_site_x = j_site_x, i_site_x;\n",
    "            \n",
    "        if imag_chiy < 0:\n",
    "            i_site_y, j_site_y = j_site_y, i_site_y;\n",
    "        \n",
    "        adj_mat[i_site_x, j_site_x] = np.abs(weight_x);\n",
    "        adj_mat[i_site_y, j_site_y] = np.abs(weight_y);\n",
    "        \n",
    "        #### ****For undirected graph construction**** ####\n",
    "        if direct == False:\n",
    "            adj_mat[j_site_x, i_site_x] = np.abs(weight_x);\n",
    "            adj_mat[j_site_y, i_site_y] = np.abs(weight_y);\n",
    "    \n",
    "    if return_disorder == False:\n",
    "        return sp.sparse.csr_matrix(adj_mat);\n",
    "    else:\n",
    "        return sp.sparse.csr_matrix(adj_mat), disorder_fraction;"
   ]
  },
  {
   "cell_type": "code",
   "execution_count": 8,
   "metadata": {},
   "outputs": [
    {
     "name": "stdout",
     "output_type": "stream",
     "text": [
      "/Volumes/Balrog/Percolation\n"
     ]
    }
   ],
   "source": [
    "cd /Volumes/Balrog/Percolation/"
   ]
  },
  {
   "cell_type": "code",
   "execution_count": 9,
   "metadata": {},
   "outputs": [],
   "source": [
    "VF_FRACTION = np.array([0.05, 0.10, 0.15, 0.20, 0.25, 0.30, 0.35, 0.40, 0.45, 0.50]);\n",
    "\n",
    "size = 28;\n",
    "direct = '.';\n",
    "\n",
    "path_lists = np.zeros([VF_FRACTION.size, 1]);\n",
    "path_lists = path_lists.tolist();\n",
    "    \n",
    "path_avg = np.zeros([VF_FRACTION.size]);\n",
    "path_std = np.zeros([VF_FRACTION.size]);\n",
    "\n",
    "#fraction_distance = np.zeros([VF_FRACTION.size]);\n",
    "fraction_files = np.zeros([VF_FRACTION.size]);\n",
    "\n",
    "for files in glob.iglob(direct + '/Perc_disint_30_*.fits'):\n",
    "    \n",
    "    distance = 0.0;\n",
    "    \n",
    "    sp_graph, disorder = make_SpAdj(files, 0.03, return_disorder=True);\n",
    "    dist_matrix = sp.sparse.csgraph.shortest_path(csgraph=sp_graph, directed=False);\n",
    "    \n",
    "    index = int(np.where(np.abs(VF_FRACTION - disorder) < 0.01)[0]);\n",
    "    \n",
    "    for i in range(size):\n",
    "        path_lists[index].append(dist_matrix[i][size//2 * size + (size//2 + i)%size]);\n",
    "    \n",
    "    #fraction_distance[index] += distance;\n",
    "    fraction_files[index] += 1;\n",
    "    \n",
    "for j in range(VF_FRACTION.size):\n",
    "    path_avg[j] = np.mean(path_lists[j][1::]);\n",
    "    path_std[j] = np.std(path_lists[j][1::]);\n",
    "    \n",
    "fraction_distance = path_avg;"
   ]
  },
  {
   "cell_type": "code",
   "execution_count": 10,
   "metadata": {},
   "outputs": [
    {
     "data": {
      "text/plain": [
       "array([ 8.,  7.,  4., 11., 13., 13., 13., 13., 13., 13.])"
      ]
     },
     "execution_count": 10,
     "metadata": {},
     "output_type": "execute_result"
    }
   ],
   "source": [
    "fraction_files"
   ]
  },
  {
   "cell_type": "code",
   "execution_count": 43,
   "metadata": {
    "scrolled": true
   },
   "outputs": [
    {
     "data": {
      "image/png": "[encoded data removed]",
      "text/plain": [
       "<Figure size 443.321x274.859 with 1 Axes>"
      ]
     },
     "metadata": {},
     "output_type": "display_data"
    }
   ],
   "source": [
    "from matplotlib.ticker import ScalarFormatter\n",
    "\n",
    "sns.set_style('ticks')\n",
    "\n",
    "scale = 0.5\n",
    "\n",
    "columnwidth = 342.2953 # value given by Latex\n",
    "#fig = plt.figure(figsize=get_figsize(columnwidth, wf=1.5, hf=0.65))\n",
    "\n",
    "SMALL_SIZE = scale * 35\n",
    "MEDIUM_SIZE = scale * 48\n",
    "BIGGER_SIZE = scale * 50\n",
    "\n",
    "title_font = {'fontname':'serif', 'size':scale * 32, 'color':'black', 'weight':'normal',\n",
    "              'verticalalignment':'bottom'} # Bottom vertical alignment for more space\n",
    "\n",
    "axis_font_x = {'fontname':'serif', 'size': scale * 32}\n",
    "axis_font_y = {'fontname':'serif', 'size': scale * 32}\n",
    "\n",
    "plt.rcParams.update({'font.size': scale * 30})\n",
    "#plt.rc('font', size=SMALL_SIZE)          # controls default text sizes\n",
    "plt.rc('axes', titlesize=MEDIUM_SIZE)     # fontsize of the axes title\n",
    "plt.rc('axes', labelsize=scale * 26)     # fontsize of the axes title\n",
    "plt.rc('xtick', labelsize=scale * 26)    # fontsize of the tick labels\n",
    "plt.rc('ytick', labelsize=scale * 26)    # fontsize of the tick labels\n",
    "plt.rc('legend', fontsize=BIGGER_SIZE)    # legend fontsize\n",
    "#plt.rc('figure', titlesize=BIGGER_SIZE)  # fontsize of the figure title\n",
    "\n",
    "fig = plt.figure(figsize=get_figsize(columnwidth, wf=1.3, hf=0.62))\n",
    "\n",
    "plt.plot(0.01, np.max(path_lists[0][1::]) / fraction_distance[-1], '.')\n",
    "plt.plot(0.01, np.min(path_lists_nonint[0][1::]) / fraction_distance_nonint[0], '.')\n",
    "plt.plot(VF_FRACTION, fraction_distance / fraction_distance[-1], label = r'$U = 4.0t$', color = 'r', linewidth=2.0)\n",
    "plt.fill_between(VF_FRACTION, (fraction_distance-path_std) / fraction_distance[-1], (fraction_distance+path_std) / fraction_distance[-1],\n",
    "    alpha=0.3, facecolor='r',\n",
    "    linewidth=4, antialiased=True)\n",
    "#indices = np.where(fraction_distance_nonint > 0.0);\n",
    "#print indices\n",
    "plt.plot(VF_FRACTION_nonint, fraction_distance_nonint / fraction_distance_nonint[0], label = r'$U = 0.0t$', color = 'b', linewidth=2.0)\n",
    "plt.fill_between(VF_FRACTION_nonint, (fraction_distance_nonint-path_std_nonint) / fraction_distance_nonint[0], (fraction_distance_nonint+path_std_nonint) / fraction_distance_nonint[0],\n",
    "    alpha=0.3, facecolor='b',\n",
    "    linewidth=4, antialiased=True)\n",
    "plt.loglog()\n",
    "#plt.semilogy()\n",
    "plt.xlim(0.05, .50)\n",
    "plt.ylim(0.95, 350)\n",
    "plt.xlabel('Disorder %', **axis_font_y)\n",
    "plt.legend(loc = 1, prop={'size': scale * 26})\n",
    "plt.ylabel('Path Weight (a.u.)', **axis_font_y)\n",
    "#plt.grid(color='grey', linestyle='--', linewidth=0.25);\n",
    "plt.title('Conductive Path Weight', **title_font);\n",
    "ax = plt.gca()\n",
    "ax.loglog()\n",
    "formatter = ScalarFormatter()\n",
    "formatter.set_scientific(False)\n",
    "ax.xaxis.set_major_formatter(formatter)\n",
    "ax.xaxis.set_minor_formatter(formatter)\n",
    "plt.savefig('/Users/Sazbo/Desktop/Trivedi_Group/mm19/path_length.pdf', bbox_inches = 'tight')\n"
   ]
  },
  {
   "cell_type": "code",
   "execution_count": 28,
   "metadata": {},
   "outputs": [
    {
     "data": {
      "text/plain": [
       "<matplotlib.axes._subplots.AxesSubplot at 0x104aabf60>"
      ]
     },
     "execution_count": 28,
     "metadata": {},
     "output_type": "execute_result"
    }
   ],
   "source": [
    "fig_ax[0].set"
   ]
  },
  {
   "cell_type": "code",
   "execution_count": null,
   "metadata": {},
   "outputs": [],
   "source": []
  },
  {
   "cell_type": "code",
   "execution_count": 11,
   "metadata": {},
   "outputs": [],
   "source": [
    "VF_FRACTION_nonint = np.array([0.05, 0.10, 0.20, 0.30, 0.35, 0.45, 0.50]);\n",
    "\n",
    "size = 30;\n",
    "direct = '.';\n",
    "\n",
    "path_lists_nonint = np.zeros([VF_FRACTION_nonint.size, 1]);\n",
    "path_lists_nonint = path_lists_nonint.tolist();\n",
    "    \n",
    "path_avg_nonint = np.zeros([VF_FRACTION_nonint.size]);\n",
    "path_std_nonint = np.zeros([VF_FRACTION_nonint.size]);\n",
    "\n",
    "#fraction_distance = np.zeros([VF_FRACTION.size]);\n",
    "fraction_files = np.zeros([VF_FRACTION_nonint.size]);\n",
    "\n",
    "for files in glob.iglob(direct + '/Perc_dis_30_*.fits'):\n",
    "    \n",
    "    distance = 0.0;\n",
    "    \n",
    "    sp_graph, disorder = make_SpAdj(files, 0.03, return_disorder=True);\n",
    "    dist_matrix = sp.sparse.csgraph.shortest_path(csgraph=sp_graph, directed=False);\n",
    "    \n",
    "    index = int(np.where(np.abs(VF_FRACTION_nonint - disorder) < 0.01)[0]);\n",
    "    \n",
    "    for i in range(size):\n",
    "        path_lists_nonint[index].append(dist_matrix[i][size//2 * size + (size//2 + i)%30]);\n",
    "    \n",
    "    #fraction_distance[index] += distance;\n",
    "    fraction_files[index] += 1;\n",
    "    \n",
    "for j in range(VF_FRACTION_nonint.size):\n",
    "    path_avg_nonint[j] = np.mean(path_lists_nonint[j][1::]);\n",
    "    path_std_nonint[j] = np.std(path_lists_nonint[j][1::]);\n",
    "    \n",
    "fraction_distance_nonint = path_avg_nonint;"
   ]
  },
  {
   "cell_type": "code",
   "execution_count": 153,
   "metadata": {},
   "outputs": [
    {
     "data": {
      "text/plain": [
       "<matplotlib.text.Text at 0x114dff250>"
      ]
     },
     "execution_count": 153,
     "metadata": {},
     "output_type": "execute_result"
    },
    {
     "data": {
      "image/png": "[encoded data removed]",
      "text/plain": [
       "<matplotlib.figure.Figure at 0x1148fc450>"
      ]
     },
     "metadata": {},
     "output_type": "display_data"
    }
   ],
   "source": [
    "plt.plot(VF_FRACTION, fraction_distance_nonint)\n",
    "plt.xlabel('Disorder %')\n",
    "plt.ylabel('Shortest Path Weight (a.u.)')\n",
    "\n",
    "#fraction_distance_nonint"
   ]
  },
  {
   "cell_type": "code",
   "execution_count": 222,
   "metadata": {},
   "outputs": [
    {
     "data": {
      "text/plain": [
       "SIMPLE  =                    T / file does conform to FITS standard             \n",
       "BITPIX  =                   16 / number of bits per data pixel                  \n",
       "NAXIS   =                    0 / number of data axes                            \n",
       "EXTEND  =                    T / FITS dataset may contain extensions            \n",
       "COMMENT   FITS (Flexible Image Transport System) format is defined in 'Astronomy\n",
       "COMMENT   and Astrophysics', volume 376, page 359; bibcode: 2001A&A...376..359H \n",
       "HIERARCH LATTICE BASIS1 X ANGS = 1.000000E+00 / X-component of first unit cell b\n",
       "HIERARCH LATTICE BASIS1 Y ANGS = 0.000000E+00 / Y-component of first unit cell b\n",
       "HIERARCH LATTICE BASIS2 X ANGS = 0.000000E+00 / X-component of second unit cell \n",
       "HIERARCH LATTICE BASIS2 Y ANGS = 1.000000E+00 / Y-component of second unit cell \n",
       "HIERARCH LATTICE NSITES B1 = 28 / Number of lattice sites along b1              \n",
       "HIERARCH LATTICE NSITES B2 = 28 / Number of lattice sites along b2              \n",
       "HIERARCH LATTICE NSITES TOTAL = 784 / Total number of sites in lattice          \n",
       "HIERARCH LATTICE DIMENSION = 2 / Dimensionality of lattice                      \n",
       "HIERARCH LATTICE ORIGIN X ANGS = 0.000000E+00 / Physical X-coordinate of lattice\n",
       "HIERARCH LATTICE ORIGIN Y ANGS = 0.000000E+00 / Physical Y-coordinate of lattice\n",
       "HIERARCH NEIGHBORS MAP BOUNDARY CONDITION = 'PERIODIC' / Boundary condition used\n",
       "HIERARCH NEIGHBORS MAP OFFVEC1 B1 = 1 / b1-component of j-th neighbor offset vec\n",
       "HIERARCH NEIGHBORS MAP OFFVEC1 B2 = 0 / b2-component of j-th neighbor offset vec\n",
       "HIERARCH NEIGHBORS MAP OFFVEC2 B1 = -1 / b1-component of j-th neighbor offset ve\n",
       "HIERARCH NEIGHBORS MAP OFFVEC2 B2 = 0 / b2-component of j-th neighbor offset vec\n",
       "HIERARCH NEIGHBORS MAP OFFVEC3 B1 = 0 / b1-component of j-th neighbor offset vec\n",
       "HIERARCH NEIGHBORS MAP OFFVEC3 B2 = 1 / b2-component of j-th neighbor offset vec\n",
       "HIERARCH NEIGHBORS MAP OFFVEC4 B1 = 0 / b1-component of j-th neighbor offset vec\n",
       "HIERARCH NEIGHBORS MAP OFFVEC4 B2 = -1 / b2-component of j-th neighbor offset ve\n",
       "HIERARCH HUBBARD MODEL T = 1.000000E+00 / Nearest-neighbor hopping coefficient i\n",
       "HIERARCH HUBBARD MODEL U = 4.000000E+00 / On-site pair potential                \n",
       "HIERARCH HUBBARD MODEL HFIELD = 0.000000E+00 / External uniform magnetic field  \n",
       "HIERARCH HUBBARD MODEL K_BT = 5.000000E-03 / System temperature as $k_B T$ in eV\n",
       "HIERARCH HUBBARD MODEL V NAME = 'CONSTANT_MAGNITUDE' / Name of the on-site disor\n",
       "HIERARCH HUBBARD MODEL V MIN = -3.500000E+00 / Minimum allowable on-site impurit\n",
       "HIERARCH HUBBARD MODEL V MAX = 3.500000E+00 / Maximum allowable on-site impurity\n",
       "HIERARCH HUBBARD MODEL V RANDOM SEED = 6785 / Random seed (possibly) used to gen\n",
       "HIERARCH HUBBARD MODEL V FRACTION = 5.000000E-02 / Fraction of sites that have n\n",
       "HIERARCH HUBBARD PROGRAM NAME = 'write_hubbard_model_to_fits.x' / Name of simula\n",
       "HIERARCH HUBBARD PROGRAM VERSION = 'v1.0.0  ' / Version of simulation program   \n",
       "HIERARCH HUBBARD PROGRAM COMPILE DATE = 'Mon Jul 2 14:41:40 EDT 2018' / Compile \n",
       "HIERARCH HUBBARD PROGRAM GIT VERSION = '        ' / Git version hash of simulati\n",
       "HIERARCH HUBBARD PROGRAM EXEC TIME = '2019-06-03T15:35:38' / Time (UTC) at which\n",
       "HIERARCH TRIAL FIELD NAME = 'ANTIFERROMAGNETIC' / Name of the type of trial fiel\n",
       "HIERARCH TRIAL FIELD RANDOM SEED = 1000 / Seed for MTPRNG random number generato\n",
       "HIERARCH SIM HF MU = 0.0 / Value of Mu at which to run HF                       \n",
       "HIERARCH SIM HF MAX LOOPS = 5000 / Max. number of permitted HF loops/mu setup   \n",
       "HIERARCH SIM HF FIELD LINEAR INTERP = 0.5 / Linear interpolation fraction for de\n",
       "HIERARCH SIM HF CONTINUATION LINEAR INTERP = 0.0 / Linear interpolation mixing o\n",
       "HIERARCH SIM MU BOOTSTRAP TOLERANCE = 1E-05 / Run HF for mu bootstrap until <n> \n",
       "HIERARCH SIM MU BOOTSTRAP N = 2 / Number of mu continuation cycles executed     \n",
       "HIERARCH SIM MU BOOTSTRAP MU1 = 3.1239884992 / Mu value blindly used to bootstra\n",
       "HIERARCH SIM MU BOOTSTRAP MU2 = 3.358141674800001 / Mu value blindly used to boo\n",
       "HIERARCH SIM HF TOLERANCE = 1E-05 / Hartree-Fock successive iterations stopping \n",
       "HIERARCH SIM TARGET FIXED NUMBER = 'TRUE    ' / Solve for given filling factor (\n",
       "HIERARCH SIM HF MEAN OCCUPANCY STAGNANT = 1E-06 / Consider <n> converged if stat\n",
       "HIERARCH SIM HF MIN DISPLACEMENT = 0.005 / Abort if <n> stagnant, outside target\n",
       "HIERARCH SIM MAX MU LOOPS = 50 / Abort if more than this many mu values tried   \n",
       "HIERARCH SIM TARGET MEAN OCCUPANCY = 1.0 / Evolve mu until this mean single-site\n",
       "HIERARCH SIM MEAN OCCUPANCY TOLERANCE = 0.01 / Acceptable error between true/des\n",
       "HIERARCH SIM MAX MEAN OCCUPANCY TOLERANCE = 1E-12 / Constaint error for confirmi\n",
       "HIERARCH SIM PROGRAM NAME = 'HF_U_repulsive.x' / Name of simulation program that\n",
       "HIERARCH SIM PROGRAM VERSION = 'v2.0.0  ' / Version of simulation program       \n",
       "HIERARCH SIM PROGRAM COMPILE DATE = 'Wed Aug 8 15:29:18 EDT 2018' / Compile date\n",
       "HIERARCH SIM PROGRAM GIT VERSION = '        ' / Git version hash of simulation p\n",
       "HIERARCH SIM TECHCODE GIT VERSION = '        ' / Git version hash of TechCode li\n",
       "HIERARCH SIM START TIME = '2019-06-03T15:40:52' / Time (UTC) at which simulation\n",
       "HIERARCH SIM RESULTS MU FINAL = 3.123989E+00 / Final chemical potential         \n",
       "HIERARCH SIM RESULTS TOTAL MU CYCLES = 3 / Total number of chemical potential cy\n",
       "HIERARCH SIM RESULTS OCCUPY ERROR = 1.110223E-15 / Final single-site occupancy e\n",
       "HIERARCH SIM RESULTS ITER ERROR = 7.733943E-06 / L_{\\infty} norm of last two fie\n",
       "HIERARCH SIM MU MODEL A2 = 2.000000E+00 / Chemical potential vs. occupancy sensi\n",
       "HIERARCH SIM MU MODEL A1 = 2.000000E+00 / Chemical potential vs. occupancy sensi\n",
       "HIERARCH SIM MU MODEL A0 = -0.000000E+00 / Chemical potential vs. occupancy sens\n",
       "HIERARCH SIM FINAL H RCOND = 5.496630E-03 / Reciprocal of condition number of fi\n",
       "HIERARCH SIM FINAL H COND = 1.819296E+02 / Condition number of final Hamiltonian\n",
       "HIERARCH SIM FINAL H HERMITICITY ERROR = 0.000000E+00 / Max norm of (H^H - H)   \n",
       "HIERARCH SIM FINAL H EIGVEC ERROR = 1.287859E-14 / Max norm of (HQ - QE)        \n",
       "HIERARCH SIM FINAL H EIGVEC UNITARY = 1.620926E-14 / Max norm of Q^H Q - I      \n",
       "HIERARCH SIM TOTAL TIME ELAPSED = 6.985930E+01 / Elapsed/wall execution time (s)\n",
       "HIERARCH SIM TOTAL TIME CPU = 2.370001E+02 / Total CPU execution time (s)       \n",
       "HIERARCH SYSTEM FLOAT SINGLE PRECISION = 6 / Decimal precision of single precisi\n",
       "HIERARCH SYSTEM FLOAT SINGLE RANGE = 37 / Range of single precision floats expon\n",
       "HIERARCH SYSTEM FLOAT SINGLE EPS = 1.1920928955078125E-07 / Machine epsilon of s\n",
       "HIERARCH SYSTEM FLOAT SINGLE MAX = 3.4028234663852886E+38 / Largest positive flo\n",
       "HIERARCH SYSTEM FLOAT SINGLE MIN = 1.1754943508222875E-38 / Smallest positive fl\n",
       "HIERARCH SYSTEM FLOAT DOUBLE PRECISION = 15 / Decimal precision of double precis\n",
       "HIERARCH SYSTEM FLOAT DOUBLE RANGE = 307 / Range of double precision floats expo\n",
       "HIERARCH SYSTEM FLOAT DOUBLE EPS = 2.2204460492503131E-16 / Machine epsilon of d\n",
       "HIERARCH SYSTEM FLOAT DOUBLE MAX = 1.7976931348623157E+308 / Largest positive fl\n",
       "HIERARCH SYSTEM FLOAT DOUBLE MIN = 2.2250738585072014E-308 / Smallest positive f\n",
       "HIERARCH SYSTEM FLOAT QUAD PRECISION = 33 / Decimal precision of quad precision \n",
       "HIERARCH SYSTEM FLOAT QUAD RANGE = 4931 / Range of quad precision floats exponen\n",
       "HIERARCH SYSTEM FLOAT QUAD EPS = '  1.925929944387235853055977942584927E-0034'  \n",
       "HIERARCH SYSTEM FLOAT QUAD MAX = '  1.189731495357231765085759326628007E+4932'  \n",
       "HIERARCH SYSTEM FLOAT QUAD MIN = '  3.362103143112093506262677817321753E-4932'  \n",
       "HIERARCH SYSTEM FLOAT WORKING PRECISION = 15 / Decimal precision of working prec\n",
       "HIERARCH SYSTEM FLOAT WORKING RANGE = 307 / Range of working precision floats ex\n",
       "HIERARCH SYSTEM ENV VAR OMP NUM THREADS = 4 / Number of OpenMP threads          "
      ]
     },
     "execution_count": 222,
     "metadata": {},
     "output_type": "execute_result"
    }
   ],
   "source": [
    "hdulist = pyfits.open('Perc_disint_30_0_000.fits')\n",
    "hdulist[0].header"
   ]
  },
  {
   "cell_type": "code",
   "execution_count": 107,
   "metadata": {},
   "outputs": [
    {
     "data": {
      "image/png": "[encoded data removed]",
      "text/plain": [
       "<matplotlib.figure.Figure at 0x114ab7a90>"
      ]
     },
     "metadata": {},
     "output_type": "display_data"
    }
   ],
   "source": [
    "temp = pyfits.open(filename)\n",
    "dm = np.array(temp[\"OnSiteImpurityPotential\"].data)\n",
    "plt.imshow(dm, origin='lower')\n",
    "plt.scatter(0,0)\n",
    "plt.scatter(561%24,561//24)\n",
    "temp.close()"
   ]
  },
  {
   "cell_type": "code",
   "execution_count": 76,
   "metadata": {
    "collapsed": true
   },
   "outputs": [],
   "source": [
    "distance_test, pred = sp.sparse.csgraph.shortest_path(csgraph=comp_test, directed=False, indices=0, return_predecessors=True);"
   ]
  },
  {
   "cell_type": "code",
   "execution_count": 77,
   "metadata": {},
   "outputs": [
    {
     "data": {
      "text/plain": [
       "(array([561]),)"
      ]
     },
     "execution_count": 77,
     "metadata": {},
     "output_type": "execute_result"
    }
   ],
   "source": [
    "np.where(distance_test == np.max(distance_test))"
   ]
  },
  {
   "cell_type": "code",
   "execution_count": 113,
   "metadata": {},
   "outputs": [
    {
     "data": {
      "text/plain": [
       "(13843.777525503581, 300)"
      ]
     },
     "execution_count": 113,
     "metadata": {},
     "output_type": "execute_result"
    }
   ],
   "source": [
    "distance_test[575], pred[301]"
   ]
  },
  {
   "cell_type": "code",
   "execution_count": 11,
   "metadata": {},
   "outputs": [
    {
     "name": "stdout",
     "output_type": "stream",
     "text": [
      "/Users/Sazbo\n"
     ]
    }
   ],
   "source": [
    "cd ~"
   ]
  },
  {
   "cell_type": "code",
   "execution_count": 143,
   "metadata": {
    "collapsed": true
   },
   "outputs": [],
   "source": [
    "VF_FRACTION = np.array([0.05, 0.10, 0.15, 0.20, 0.25, 0.30, 0.35, 0.40, 0.45, 0.50]);\n",
    "\n",
    "size = 30;\n",
    "direct = '.';\n",
    "\n",
    "fraction_distance = np.zeros([VF_FRACTION.size]);\n",
    "fraction_files = np.zeros([VF_FRACTION.size]);\n",
    "\n",
    "for files in glob.iglob(direct + '/Perc_disint_30_*.fits'):\n",
    "    \n",
    "    distance = 0.0;\n",
    "    \n",
    "    sp_graph, disorder = make_SpAdj(files, 0.03, return_disorder=True);\n",
    "    dist_matrix = sp.sparse.csgraph.shortest_path(csgraph=sp_graph, directed=False);\n",
    "    \n",
    "    index = np.where(np.abs(VF_FRACTION - disorder) < 0.01);\n",
    "    \n",
    "    for i in range(size):\n",
    "        distance += dist_matrix[i][size//2 * size + (size//2 + i)%24];\n",
    "    \n",
    "    fraction_distance[index] += distance;\n",
    "    fraction_files[index] += 1;"
   ]
  },
  {
   "cell_type": "code",
   "execution_count": 26,
   "metadata": {},
   "outputs": [
    {
     "ename": "NameError",
     "evalue": "name 'hdulist' is not defined",
     "output_type": "error",
     "traceback": [
      "\u001b[0;31m---------------------------------------------------------------------------\u001b[0m",
      "\u001b[0;31mNameError\u001b[0m                                 Traceback (most recent call last)",
      "\u001b[0;32m<ipython-input-26-e659323c2f9f>\u001b[0m in \u001b[0;36m<module>\u001b[0;34m()\u001b[0m\n\u001b[0;32m----> 1\u001b[0;31m \u001b[0mhdulist\u001b[0m\u001b[0;34m.\u001b[0m\u001b[0mclose\u001b[0m\u001b[0;34m(\u001b[0m\u001b[0mall\u001b[0m\u001b[0;34m)\u001b[0m\u001b[0;34m\u001b[0m\u001b[0m\n\u001b[0m",
      "\u001b[0;31mNameError\u001b[0m: name 'hdulist' is not defined"
     ]
    }
   ],
   "source": [
    "hdulist.close(all)"
   ]
  },
  {
   "cell_type": "code",
   "execution_count": 27,
   "metadata": {},
   "outputs": [
    {
     "name": "stdout",
     "output_type": "stream",
     "text": [
      "/Users/Sazbo\n"
     ]
    }
   ],
   "source": [
    "cd ~"
   ]
  },
  {
   "cell_type": "code",
   "execution_count": null,
   "metadata": {
    "collapsed": true
   },
   "outputs": [],
   "source": []
  }
 ],
 "metadata": {
  "kernelspec": {
   "display_name": "Python 3",
   "language": "python",
   "name": "python3"
  },
  "language_info": {
   "codemirror_mode": {
    "name": "ipython",
    "version": 3
   },
   "file_extension": ".py",
   "mimetype": "text/x-python",
   "name": "python",
   "nbconvert_exporter": "python",
   "pygments_lexer": "ipython3",
   "version": "3.7.3"
  }
 },
 "nbformat": 4,
 "nbformat_minor": 2
}
